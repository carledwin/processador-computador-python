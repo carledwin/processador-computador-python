{
  "nbformat": 4,
  "nbformat_minor": 0,
  "metadata": {
    "colab": {
      "provenance": []
    },
    "kernelspec": {
      "name": "python3",
      "display_name": "Python 3"
    },
    "language_info": {
      "name": "python"
    }
  },
  "cells": [
    {
      "cell_type": "code",
      "source": [
        "import json\n",
        "import pandas as pd\n",
        "import os\n",
        "from typing import List, Optional\n",
        "\n"
      ],
      "metadata": {
        "id": "AwLlTieaTB3V"
      },
      "execution_count": null,
      "outputs": []
    },
    {
      "cell_type": "code",
      "execution_count": null,
      "metadata": {
        "id": "qI-AJnyvSoFn"
      },
      "outputs": [],
      "source": [
        "class Atributo:\n",
        "    def __init__(self, chave: str, valor: str):\n",
        "        self.chave = chave\n",
        "        self.valor = valor\n",
        "\n",
        "    def __str__(self):\n",
        "        return f'{self.chave}: {self.valor}'\n",
        "\n",
        "\n",
        "class Computador:\n",
        "    def __init__(self, nome: str, codigo: str, produto: str, versao: dict = None, atributos: Optional[List[Atributo]] = None):\n",
        "        self.nome = nome\n",
        "        self.codigo = codigo\n",
        "        self.produto = produto\n",
        "        self.versao = versao  # Aqui `versao` é um único objeto\n",
        "\n",
        "        if isinstance(atributos, list):\n",
        "          self.atributos = [Atributo(attr['chave'], attr['valor']) for attr in atributos]\n",
        "        else:\n",
        "          self.atributos = []  # Or a default value\n",
        "\n",
        "    def __str__(self):\n",
        "        atributos_str = ', '.join(str(attr) for attr in self.atributos)\n",
        "        versao_str = f'{self.versao[\"nome\"]}: {self.versao[\"versao\"]}'\n",
        "        return f'Computador(nome={self.nome}, codigo={self.codigo}, produto={self.produto}, versao=[{versao_str}], atributos=[{atributos_str}])'\n",
        "\n"
      ]
    },
    {
      "cell_type": "code",
      "source": [
        "def processar(arquivo_json: str):\n",
        "    # Ler o arquivo JSON em um DataFrame Pandas\n",
        "    df = pd.read_json(arquivo_json)\n",
        "\n",
        "    # Imprimir o total de registros antes do filtro\n",
        "    total_antes = len(df)\n",
        "    print(f\"Total de registros antes do filtro: {total_antes}\")\n",
        "\n",
        "    # Filtrar registros que atendem às condições especificadas\n",
        "    df_filtrado = df[\n",
        "        (df['versao'].isna()) |\n",
        "        (df['versao'].apply(lambda x: x is None or ('nome' not in x if isinstance(x, dict) else True) or (\n",
        "            x['nome'] is None if isinstance(x, dict) else True) or (\n",
        "                                          x['nome'] != 'v2.0' if isinstance(x, dict) else True)))\n",
        "    ]\n",
        "\n",
        "    # Imprimir o total de registros após o filtro\n",
        "    total_depois = len(df_filtrado)\n",
        "    print(f\"Total de registros após o filtro: {total_depois}\")\n",
        "\n",
        "    # Iterar pelos registros e criar objetos Computador\n",
        "    computadores = []\n",
        "    for _, row in df.iterrows():\n",
        "\n",
        "        if 'versao' in row:  # Check if 'versao' key exists in row\n",
        "            versao = row['versao']\n",
        "\n",
        "            if isinstance(versao, dict) and versao:\n",
        "                versao = {\n",
        "                    'nome': versao['nome'] if 'nome' in versao and versao['nome'] else None,\n",
        "                    'versao': versao['versao'] if 'versao' in versao and versao['versao'] else None\n",
        "                }\n",
        "            else:\n",
        "                versao = {}\n",
        "\n",
        "        else:\n",
        "            versao = {}\n",
        "\n",
        "        atributos = row['atributos'] if 'atributos' in row and row['atributos'] else None\n",
        "        computador = Computador(row['nome'], row['codigo'], row['produto'], versao, atributos)\n",
        "        computadores.append(computador)\n",
        "\n",
        "    # Converter para DataFrame para salvar em CSV\n",
        "    df_computadores = pd.DataFrame([{\n",
        "        'nome': comp.nome,\n",
        "        'codigo': comp.codigo,\n",
        "        'produto': comp.produto,\n",
        "        'versao_nome': comp.versao['nome'] if 'nome' in comp.versao and comp.versao['nome'] else None,\n",
        "        'versao_versao': comp.versao['versao'] if 'versao' in comp.versao and comp.versao['versao'] else None,\n",
        "        **{attr.chave: attr.valor for attr in comp.atributos}\n",
        "    } for comp in computadores])\n",
        "\n",
        "    # Gerar o nome do arquivo CSV com base no nome do arquivo JSON\n",
        "    nome_csv = os.path.splitext(arquivo_json)[0] + '_processado.csv'\n",
        "\n",
        "    # Salvar em arquivo CSV\n",
        "    df_computadores.to_csv(nome_csv, index=False)\n",
        "    print(f\"Arquivo '{nome_csv}' salvo com sucesso!\")\n"
      ],
      "metadata": {
        "id": "bxTQBaTcUzVo"
      },
      "execution_count": 60,
      "outputs": []
    },
    {
      "cell_type": "code",
      "source": [
        "def main():\n",
        "    #processar('./json/computadores_10_sem_atributos.json')\n",
        "    #processar('./json/computadores_10_sem_campos_principais.json')\n",
        "    #processar('./json/computadores_10_sem_versao_ou_parte_da_versao.json')\n",
        "    processar('./computadores_360000_campos_inexistentes_vazios_none.json')\n",
        "    #processar('./json/computadores_360000.json')\n",
        "\n",
        "if __name__ == \"__main__\":\n",
        "    main()\n"
      ],
      "metadata": {
        "colab": {
          "base_uri": "https://localhost:8080/"
        },
        "id": "",
        "outputId": ""
      },
      "execution_count": 66,
      "outputs": [
        {
          "output_type": "stream",
          "name": "stdout",
          "text": [
            "Total de registros antes do filtro: 360000\n",
            "Total de registros após o filtro: 179434\n",
            "Arquivo './computadores_360000_campos_inexistentes_vazios_none_processado.csv' salvo com sucesso!\n"
          ]
        }
      ]
    }
  ]
}